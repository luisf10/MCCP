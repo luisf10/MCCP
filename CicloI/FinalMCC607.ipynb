{
  "nbformat": 4,
  "nbformat_minor": 0,
  "metadata": {
    "colab": {
      "name": "FinalMCC607.ipynb",
      "provenance": [],
      "collapsed_sections": [],
      "authorship_tag": "ABX9TyOuZcUG84TryhqBvzMzBK1Z",
      "include_colab_link": true
    },
    "kernelspec": {
      "name": "python3",
      "display_name": "Python 3"
    },
    "language_info": {
      "name": "python"
    }
  },
  "cells": [
    {
      "cell_type": "markdown",
      "metadata": {
        "id": "view-in-github",
        "colab_type": "text"
      },
      "source": [
        "<a href=\"https://colab.research.google.com/github/luisf10/MCCP/blob/main/FinalMCC607.ipynb\" target=\"_parent\"><img src=\"https://colab.research.google.com/assets/colab-badge.svg\" alt=\"Open In Colab\"/></a>"
      ]
    },
    {
      "cell_type": "markdown",
      "metadata": {
        "id": "fdkOpWiEs0b_"
      },
      "source": [
        "***EXAMEN FINAL DE APRENDIZAJE AUTOMATICO:***"
      ]
    },
    {
      "cell_type": "code",
      "metadata": {
        "id": "UHDlUaE3s5n3"
      },
      "source": [
        "#Audio descargado por 8 horas,el cual ya esta.Asi que lo obvio.\n",
        "#Crear carpetas"
      ],
      "execution_count": null,
      "outputs": []
    },
    {
      "cell_type": "markdown",
      "metadata": {
        "id": "8yVKMwI-uc3p"
      },
      "source": [
        "***Paso2:  Convierte MP3 a WAV y segmenta el audio a intervalos de 1 seg, de ser necesario instale librerias con pip***"
      ]
    },
    {
      "cell_type": "code",
      "metadata": {
        "colab": {
          "base_uri": "https://localhost:8080/"
        },
        "id": "H7yASv2RuqiE",
        "outputId": "15ffdb7c-d9e8-4ad1-bde4-cdd19fdf7870"
      },
      "source": [
        "#Instalar con pip todos las librerias que sean necesarias\n",
        "pip install pydub"
      ],
      "execution_count": 3,
      "outputs": [
        {
          "output_type": "stream",
          "text": [
            "Collecting pydub\n",
            "  Downloading https://files.pythonhosted.org/packages/a6/53/d78dc063216e62fc55f6b2eebb447f6a4b0a59f55c8406376f76bf959b08/pydub-0.25.1-py2.py3-none-any.whl\n",
            "Installing collected packages: pydub\n",
            "Successfully installed pydub-0.25.1\n"
          ],
          "name": "stdout"
        }
      ]
    },
    {
      "cell_type": "code",
      "metadata": {
        "id": "yHoIu1zCs5zm"
      },
      "source": [
        "import librosa\n",
        "import soundfile as sf\n",
        "from os import path \n",
        "from pydub import AudioSegment \n",
        "\n",
        "#Declaro la ruta origen del mp3\n",
        "rutamp3=\"audio_ori//audio_ori.mp3\"\n",
        "rutawav=\"audio_ori//audio_ori.wav\"\n",
        "\n",
        "#...........................................................\n",
        "def converMP3toWAV(filemp3,filewav):\n",
        "    sound = AudioSegment.from_mp3(filemp3) \n",
        "    sound.export(filewav, format=\"wav\") \n",
        "#...........................................................\n",
        "def segmentadoAudio(filewav):\n",
        "    data,fs=librosa.load(filewav) #data y frec de muestreo\n",
        "    n=int(len(data)/fs) #numero de segundos de duracion\n",
        "    #Segmentado de audio en la carpeta audio_seg\n",
        "    for i in range(n):\n",
        "        data1=data[i*fs:(i+1)*fs]\n",
        "        nameaudio=\"audio_seg//audio_\"+str(\"%05d\" % i)+\".wav\"\n",
        "        sf.write(nameaudio, data1,fs, subtype='PCM_24')\n",
        "#............................................................\n",
        "#Ejecutando el codigo:\n",
        "converMP3toWAV(rutamp3,rutawav) #Convierte el audio MP3 a WAV\n",
        "segmentadoAudio(rutawav)        #Segmenta el audio WAV"
      ],
      "execution_count": 4,
      "outputs": []
    },
    {
      "cell_type": "markdown",
      "metadata": {
        "id": "BGEWPxA1vKiE"
      },
      "source": [
        "***Paso3: Renombra los audios segmentados,en funcion a las etiquetas del excel. Es necesario que suba el excel de etiquetas en etiquetaslogan***"
      ]
    },
    {
      "cell_type": "code",
      "metadata": {
        "id": "-5tvgJtrs53B"
      },
      "source": [
        "import librosa\n",
        "import soundfile as sf\n",
        "from os import path \n",
        "from pydub import AudioSegment \n",
        "import matplotlib.pyplot as plt\n",
        "import numpy as np \n",
        "from scipy.ndimage import gaussian_filter1d\n",
        "from scipy.stats import kurtosis, skew\n",
        "from scipy.stats import entropy\n",
        "import glob\n",
        "import pandas as pd \n",
        "import random\n",
        "import  re\n",
        "import os\n",
        "import sys\n",
        "\n",
        "#..........................................................................\n",
        "\n",
        "#..........................................................................\n",
        "datafile=\"etiquetaslogan//etiquetadoslogan.xlsx\"\n",
        "# lee los datos, con id = paciente\n",
        "dataset_ori  = pd.read_excel(datafile, sheet_name='Hoja1')  # lee dataset, con index\n",
        "dataset_ori  = dataset_ori.to_numpy()  \n",
        "#print(dataset_ori[:,0])\n",
        "#......................................................................\n",
        "\n",
        "def getIDfilename(filename):\n",
        "    return re.search(r'\\d+', filename).group(0)\n",
        "# ruta = [\".\\\\audio_seg\\\\\"+f+\"\\\\\" for f in sorted(os.listdir(\".\\\\audio_seg\"))]\n",
        "#............................................................................\n",
        "ruta=\"audio_seg//\"\n",
        "for filename in os.listdir(ruta):\n",
        "    filename2=getIDfilename(filename)\n",
        "    k=int(filename2) #Ubica el numero de segmento\n",
        "    etiqueta=dataset_ori[k,2] #Busca la etiqueta\n",
        "    filename3=\"audio_\"+filename2+\"_\"+str(etiqueta)+\".wav\" #Agrega al nuevo nombre la etiqueta\n",
        "    #Renombramos los files:\n",
        "    os.rename(ruta+filename,ruta+filename3)"
      ],
      "execution_count": 12,
      "outputs": []
    },
    {
      "cell_type": "markdown",
      "metadata": {
        "id": "_6jSYT0QwJAZ"
      },
      "source": [
        "***Paso 4: Visualizar los datos de Fourier,Spectral,MFCC de un audio cualquiera segmentado.***"
      ]
    },
    {
      "cell_type": "code",
      "metadata": {
        "colab": {
          "base_uri": "https://localhost:8080/",
          "height": 1000
        },
        "id": "M46GZE4Ls56K",
        "outputId": "02bb7041-43b5-4d86-f46e-587624648242"
      },
      "source": [
        "import librosa,librosa.display\n",
        "import matplotlib.pyplot as plt\n",
        "import numpy as np \n",
        "\n",
        "\n",
        "#Declaro la ruta origen del mp3\n",
        "#Escribes cualquier segmento de audio de la carpeta audio_seg\n",
        "#se le aplicara el fourier,se graficara el espectro y todo lo demas\n",
        "#................................................................\n",
        "#Quita el comentario y ubica el nombre wav\n",
        "filewav=\"audio_seg//audio_00011_4.wav\"\n",
        "#................................................................\n",
        "data,fs=librosa.load(filewav)\n",
        "\n",
        "\n",
        "librosa.display.waveplot(data,sr=fs)\n",
        "\n",
        "plt.xlabel('Tiempo')\n",
        "plt.ylabel('Amplitud')\n",
        "plt.title('Segmento de audio en el tiempo')\n",
        "plt.grid('on',linestyle='--')\n",
        "plt.show()\n",
        "#plt.ylim([-1,1])\n",
        "\n",
        "#...............................................\n",
        "#Transformada de Fourier:FFT\n",
        "fft=np.fft.fft(data)\n",
        "magnitude=np.abs(fft)\n",
        "frequency=np.linspace(0,fs,len(magnitude))\n",
        "\n",
        "left_frequency=frequency[:int(len(frequency)/2)]\n",
        "left_magnitude=magnitude[:int(len(frequency)/2)]\n",
        "\n",
        "left_frequency_max=left_frequency[left_magnitude==max(left_magnitude)]\n",
        "print('frecuencia de a la que esta la amplitud maxima de la FFT={0} Hz'.format(left_frequency_max))\n",
        "\n",
        "plt.plot(left_frequency,left_magnitude)\n",
        "plt.xlabel(\"frec(Hz)\")\n",
        "plt.ylabel(\"Left Amplitude\")\n",
        "plt.title(\"FFT\")\n",
        "plt.grid('on',linestyle='--')\n",
        "plt.show()\n",
        "#...............................................\n",
        "#stft:Spectogram\n",
        "#obs: fs=22050 Hz\n",
        "#obs: duracion: n=1\n",
        "n_fft=2048\n",
        "hop_length=512\n",
        "\n",
        "stft=librosa.core.stft(data,hop_length=hop_length,n_fft=n_fft)\n",
        "spectogram=np.abs(stft)\n",
        "\n",
        "log_spectogram=librosa.amplitude_to_db(spectogram)\n",
        "# librosa.display.specshow(spectogram,sr=fs,hop_length=hop_length)\n",
        "librosa.display.specshow(log_spectogram,sr=fs,hop_length=hop_length)\n",
        "\n",
        "plt.xlabel(\"tiempo(s)\")\n",
        "plt.ylabel(\"Frecuencia(Hz)\")\n",
        "plt.title(\"Espectograma\")\n",
        "plt.colorbar()\n",
        "plt.show()\n",
        "#................................................\n",
        "#MFCCs:\n",
        "MFFCs=librosa.feature.mfcc(data,n_fft=n_fft,hop_length=hop_length,n_mfcc=20)\n",
        "#20,usualmente es 13\n",
        "librosa.display.specshow(MFFCs,sr=fs,hop_length=hop_length)\n",
        "\n",
        "plt.xlabel(\"Time(s)\")\n",
        "plt.ylabel(\"MFCC\")\n",
        "plt.title(\"Coeficientes de MFCC\")\n",
        "plt.colorbar()\n",
        "plt.show()\n",
        "##\n"
      ],
      "execution_count": 10,
      "outputs": [
        {
          "output_type": "display_data",
          "data": {
            "image/png": "[encoded data removed]",
            "text/plain": [
              "<Figure size 432x288 with 1 Axes>"
            ]
          },
          "metadata": {
            "tags": [],
            "needs_background": "light"
          }
        },
        {
          "output_type": "stream",
          "text": [
            "frecuencia de a la que esta la amplitud maxima de la FFT=[263.01192798] Hz\n"
          ],
          "name": "stdout"
        },
        {
          "output_type": "display_data",
          "data": {
            "image/png": "[encoded data removed]",
            "text/plain": [
              "<Figure size 432x288 with 1 Axes>"
            ]
          },
          "metadata": {
            "tags": [],
            "needs_background": "light"
          }
        },
        {
          "output_type": "display_data",
          "data": {
            "image/png": "[encoded data removed]",
            "text/plain": [
              "<Figure size 432x288 with 2 Axes>"
            ]
          },
          "metadata": {
            "tags": [],
            "needs_background": "light"
          }
        },
        {
          "output_type": "display_data",
          "data": {
            "image/png": "[encoded data removed]",
            "text/plain": [
              "<Figure size 432x288 with 2 Axes>"
            ]
          },
          "metadata": {
            "tags": [],
            "needs_background": "light"
          }
        }
      ]
    },
    {
      "cell_type": "markdown",
      "metadata": {
        "id": "JhANVMeyw47J"
      },
      "source": [
        "***Paso5: Extraer las caracteristicas de cada archivo segmentado wav, y almacenarlos en un csv (dataset)***"
      ]
    },
    {
      "cell_type": "code",
      "metadata": {
        "colab": {
          "base_uri": "https://localhost:8080/"
        },
        "id": "LhBriKVHs59u",
        "outputId": "e5bdca04-3f46-4a0e-92a5-2efa2f96f4a1"
      },
      "source": [
        "import librosa,librosa.display\n",
        "import matplotlib.pyplot as plt\n",
        "import numpy as np \n",
        "import pandas as pd\n",
        "from scipy.ndimage import gaussian_filter1d\n",
        "from scipy.stats import kurtosis, skew\n",
        "from scipy.stats import entropy\n",
        "import glob\n",
        "import random\n",
        "import  re\n",
        "import os\n",
        "import sys\n",
        "\n",
        "#.....................................................................\n",
        "# Funcion que ordena todos los files.  \n",
        "def ordenaNombreFile(path):\n",
        "    filenames=glob.glob(path+'*.wav')\n",
        "    r = re.compile(r\"(\\d+)\")\n",
        "    filenames.sort(key=lambda x: int(r.search(x).group(1)))\n",
        "    return filenames\n",
        "\n",
        "#....................................................................\n",
        "def valorRMS(x):\n",
        "    n=len(x)\n",
        "    s=0\n",
        "    for i in x:\n",
        "        s=s+i**2\n",
        "    s=s/n\n",
        "    s=s**0.5\n",
        "    return s\n",
        "#....................................................................\n",
        "######################################################################\n",
        "#.....................................................................\n",
        "#Esta funcion obtiene las 63 caracteristicas de un solo segmento de audio\n",
        "#Retorna un vector de longitud 63\n",
        "def getFeatures(filewav):\n",
        "    #20 coeficientes de MFCC\n",
        "    #12 coeficientes de chroma\n",
        "    #7 coeficientes de contaste\n",
        "    #7 coeficientes de Mel\n",
        "    #6 coeficientes de tonnetz\n",
        "    #1 maximo:\n",
        "    #1 rms\n",
        "    #1 interv interquartil\n",
        "    #1 kurtosis\n",
        "    #1 skew\n",
        "    #1 std\n",
        "    #1 median\n",
        "    #1 mean\n",
        "    #1 std abs\n",
        "    #1 freq a la max amplitud en FFT\n",
        "    #1 mag maxima de la FFT\n",
        "    #Total:==>63 caracteristicas\n",
        "    #Etiqueta==>1:\n",
        "    #Array de 64 de longitud\n",
        "    #-------------------------------------------------------\n",
        "    data,fs=librosa.load(filewav)\n",
        "    n=int(len(data)/fs)\n",
        "    fft=np.fft.fft(data)\n",
        "    magnitude=np.abs(fft)\n",
        "    frequency=np.linspace(0,fs,len(magnitude))\n",
        "    left_frequency=frequency[:int(len(frequency)/2)]\n",
        "    left_magnitude=magnitude[:int(len(frequency)/2)]\n",
        "    \n",
        "    n_fft=2048\n",
        "    hop_length=512\n",
        "    #Short Transform Fourier\n",
        "    stft=np.abs(librosa.stft(data))\n",
        "    #Coeficientes de Mel\n",
        "    MFCC_audio=np.mean(librosa.feature.mfcc(y=data,sr=fs,n_mfcc=20).T,axis=0)\n",
        "    #Coeficientes del chroma:\n",
        "    chroma_audio=np.mean(librosa.feature.chroma_stft(S=stft,sr=fs).T,axis=0)\n",
        "    #coeficientes del contraste de audio:\n",
        "    contraste_audio = np.mean(librosa.feature.spectral_contrast(S=stft, sr=fs).T,axis=0)\n",
        "    #coeficientes de Mel:\n",
        "    mel_audio = np.mean(librosa.feature.spectral_contrast(S=stft, sr=fs).T,axis=0)\n",
        "    #coeficientes del tonnetz:\n",
        "    tonnetz_audio = np.mean(librosa.feature.tonnetz(y=librosa.effects.harmonic(data),sr=fs).T,axis=0)\n",
        "    #Maximo valor del audio:\n",
        "    maximo_audio=max(abs(data))\n",
        "    #valor RMS del audio:\n",
        "    rms_audio=valorRMS(data)\n",
        "    #Intervalo interquartil:\n",
        "    interquartil_audio=np.quantile(data,0.75)-np.quantile(data,0.25)\n",
        "    #Kurtosis:\n",
        "    kurtosis_audio=kurtosis(data)\n",
        "    #skew:\n",
        "    skew_audio=skew(data)\n",
        "    #std:\n",
        "    std_audio=np.std(data)\n",
        "    #median:\n",
        "    median_audio=np.median(data)\n",
        "    #mean:\n",
        "    mean_audio=np.mean(data)\n",
        "    #std abs:\n",
        "    stdabs_audio=np.mean(np.absolute(data - np.mean(data)))\n",
        "    #FFT: Freq a la que se da la maxima amplitud\n",
        "    left_frequency_max=left_frequency[left_magnitude==max(left_magnitude)]\n",
        "    #Maxima amplitud a cierta frecuencia\n",
        "    left_magnitude_max=max(left_magnitude)\n",
        "    #..................................................................\n",
        "    #Agregando a feature:\n",
        "    feature=[]\n",
        "    feature=np.append(feature,MFCC_audio)\n",
        "    feature=np.append(feature,chroma_audio)\n",
        "    feature=np.append(feature,contraste_audio)\n",
        "    feature=np.append(feature,mel_audio)\n",
        "    feature=np.append(feature,tonnetz_audio)\n",
        "    feature=np.append(feature,maximo_audio)\n",
        "    feature=np.append(feature,rms_audio)\n",
        "    feature=np.append(feature,interquartil_audio)\n",
        "    feature=np.append(feature,kurtosis_audio)\n",
        "    feature=np.append(feature,skew_audio)\n",
        "    feature=np.append(feature,std_audio)\n",
        "    feature=np.append(feature,median_audio)\n",
        "    feature=np.append(feature,mean_audio) \n",
        "    feature=np.append(feature,stdabs_audio)\n",
        "    feature=np.append(feature,left_frequency_max)\n",
        "    feature=np.append(feature,left_magnitude_max)\n",
        "\n",
        "\n",
        "\n",
        "    return feature\n",
        "#......................................................................\n",
        "#######################################################################\n",
        "#.....................................................................\n",
        "#Esta funcion genera una cabecera para todas las caracteristicas\n",
        "def setheaderAudio():\n",
        "    \n",
        "    col_mfcc=[]\n",
        "    for i in np.arange(1,21):\n",
        "        col_mfcc=np.append(col_mfcc,\"MFCC_\"+str(i))\n",
        "\n",
        "    col_chroma=[]\n",
        "    for i in np.arange(1,13):\n",
        "        col_chroma=np.append(col_chroma,\"CHRO_\"+str(i))\n",
        "\n",
        "\n",
        "    col_contrast=[]\n",
        "    for i in np.arange(1,8):\n",
        "        col_contrast=np.append(col_contrast,\"CONTR_\"+str(i))\n",
        "\n",
        "\n",
        "    col_mel=[]\n",
        "    for i in np.arange(1,8):\n",
        "        col_mel=np.append(col_mel,\"MEL_\"+str(i))\n",
        "\n",
        "\n",
        "    col_tonnetz=[]\n",
        "    for i in np.arange(1,7):\n",
        "        col_tonnetz=np.append(col_tonnetz,\"TON_\"+str(i))\n",
        "\n",
        "    col_max=\"max\"\n",
        "    col_rms=\"rms\"\n",
        "    col_iiq=\"interv_iq\"\n",
        "    col_kurt=\"kurtosis\"\n",
        "    col_skew=\"skew\"\n",
        "    col_std=\"std\"\n",
        "    col_median=\"median\"\n",
        "    col_mean=\"mean\"\n",
        "    col_stdabs=\"std_abs\"\n",
        "    col_freqm=\"freq_max\"\n",
        "    col_magm=\"mag_max\"\n",
        "    col_slogan_id=\"slogan_id\"\n",
        "\n",
        "\n",
        "    header=[]\n",
        "    header=np.append(header,col_mfcc)\n",
        "    header=np.append(header, col_chroma)\n",
        "    header=np.append(header,col_contrast)\n",
        "    header=np.append(header,col_mel)\n",
        "    header=np.append(header,col_tonnetz)\n",
        "    header=np.append(header,col_max)\n",
        "    header=np.append(header,col_rms)\n",
        "    header=np.append(header,col_iiq)\n",
        "    header=np.append(header,col_kurt)\n",
        "    header=np.append(header,col_skew)\n",
        "    header=np.append(header,col_std)\n",
        "    header=np.append(header,col_median)\n",
        "    header=np.append(header,col_mean)\n",
        "    header=np.append(header,col_stdabs)\n",
        "    header=np.append(header,col_freqm)\n",
        "    header=np.append(header,col_magm)\n",
        "    header=np.append(header,col_slogan_id)\n",
        "    \n",
        "\n",
        "    return header\n",
        "#....................................................................\n",
        "#.....................................................................\n",
        "######################################################################\n",
        "######################################################################\n",
        "#.....................................................................\n",
        "########## EJECUCION DEL PROGRAMA ####################################\n",
        "#Ruta donde se encuentran todos los wav divididos.\n",
        "ruta=\"audio_seg//\"\n",
        "#......................................................................\n",
        "#Ordena los nombres:...................................................\n",
        "filenames=ordenaNombreFile(ruta)\n",
        "#......................................................................\n",
        "#Extraccion de caracteristicas de un archivo de audio:\n",
        "vectordataset=[] #Declaramos vacio el vector dataset\n",
        "#iteracion ordenada para cada archivo wav\n",
        "for file in filenames:\n",
        "    feature=getFeatures(file)     #obtiene las 63 caracteristicas de un wav\n",
        "    clase=(file.split(\"_\")[3]).split(\".\")[0] #extrae la etiqueta del wav\n",
        "    feature=np.append(feature,clase) #Obtiene un vector de longitud 64 \n",
        "    vectordataset.append(feature) #almacena en una fila de vectordataset\n",
        "#......................................................................\n",
        "#Escribir el vector dataset en un csv final no escalado\n",
        "dataset=pd.DataFrame(vectordataset)\n",
        "\n",
        "dataset.to_csv(\"dataset//datasetSlogan.csv\",header=setheaderAudio(),index=False)\n"
      ],
      "execution_count": 13,
      "outputs": [
        {
          "output_type": "stream",
          "text": [
            "/usr/local/lib/python3.7/dist-packages/librosa/core/spectrum.py:224: UserWarning: n_fft=1024 is too small for input signal of length=690\n",
            "  n_fft, y.shape[-1]\n",
            "/usr/local/lib/python3.7/dist-packages/librosa/core/spectrum.py:224: UserWarning: n_fft=1024 is too small for input signal of length=345\n",
            "  n_fft, y.shape[-1]\n"
          ],
          "name": "stderr"
        }
      ]
    },
    {
      "cell_type": "markdown",
      "metadata": {
        "id": "ag_IhigCxa84"
      },
      "source": [
        "***Paso 6: Visualizacion de los datos: Aqui se limpian los nulos, infinitos. Y se debe escalar el CSV, para tenerlo listo y mandarlo al sistema de entrenamiento.***"
      ]
    },
    {
      "cell_type": "code",
      "metadata": {
        "colab": {
          "base_uri": "https://localhost:8080/"
        },
        "id": "cE7PilMXs6CT",
        "outputId": "e0345db5-5d7f-49e6-8ec3-addf31f3931f"
      },
      "source": [
        "#Paso 6: Visualizacion de los datos:\n",
        "import librosa,librosa.display\n",
        "import matplotlib.pyplot as plt\n",
        "import numpy as np \n",
        "import pandas as pd\n",
        "from scipy.ndimage import gaussian_filter1d\n",
        "from scipy.stats import kurtosis, skew\n",
        "from scipy.stats import entropy\n",
        "import glob\n",
        "import random\n",
        "import  re\n",
        "import os\n",
        "import sys\n",
        "\n",
        "filedataset=\"dataset//datasetSlogan.csv\"\n",
        "\n",
        "df=pd.read_csv(filedataset)\n",
        "\n",
        "print(df.describe())"
      ],
      "execution_count": 15,
      "outputs": [
        {
          "output_type": "stream",
          "text": [
            "           MFCC_1      MFCC_2     MFCC_3  ...    freq_max     mag_max  slogan_id\n",
            "count   48.000000   48.000000  48.000000  ...   48.000000   48.000000  48.000000\n",
            "mean  -291.646240  145.318166 -32.037262  ...  369.704267  295.069597   2.250000\n",
            "std    108.582697   30.068368  29.417738  ...  238.265377  140.596316   1.768519\n",
            "min   -653.343750   72.226555 -94.511406  ...   73.003311    8.728778   0.000000\n",
            "25%   -344.077774  127.759922 -56.180507  ...  195.758878  201.486677   1.000000\n",
            "50%   -296.839615  150.495850 -28.648716  ...  288.013062  285.274977   2.000000\n",
            "75%   -236.637863  168.309101  -7.742178  ...  519.023538  383.066902   4.000000\n",
            "max   -102.644608  193.921295  16.643856  ...  881.039956  663.414667   9.000000\n",
            "\n",
            "[8 rows x 64 columns]\n"
          ],
          "name": "stdout"
        }
      ]
    },
    {
      "cell_type": "code",
      "metadata": {
        "id": "EnQaXsyls6F3"
      },
      "source": [
        ""
      ],
      "execution_count": null,
      "outputs": []
    },
    {
      "cell_type": "code",
      "metadata": {
        "id": "I0VKJ0aTs6JG"
      },
      "source": [
        ""
      ],
      "execution_count": null,
      "outputs": []
    },
    {
      "cell_type": "code",
      "metadata": {
        "id": "qeCg1nFNs6Mi"
      },
      "source": [
        ""
      ],
      "execution_count": null,
      "outputs": []
    },
    {
      "cell_type": "code",
      "metadata": {
        "id": "5FxobkdWs6PX"
      },
      "source": [
        ""
      ],
      "execution_count": null,
      "outputs": []
    },
    {
      "cell_type": "code",
      "metadata": {
        "id": "qDayPkLus6Sk"
      },
      "source": [
        ""
      ],
      "execution_count": null,
      "outputs": []
    },
    {
      "cell_type": "code",
      "metadata": {
        "id": "DOXtQfB_s6Vr"
      },
      "source": [
        ""
      ],
      "execution_count": null,
      "outputs": []
    },
    {
      "cell_type": "code",
      "metadata": {
        "id": "Gf1I4tqHs6Yk"
      },
      "source": [
        ""
      ],
      "execution_count": null,
      "outputs": []
    },
    {
      "cell_type": "code",
      "metadata": {
        "id": "UwLG2v60s6bg"
      },
      "source": [
        ""
      ],
      "execution_count": null,
      "outputs": []
    },
    {
      "cell_type": "code",
      "metadata": {
        "id": "IjLG1JArs6ej"
      },
      "source": [
        ""
      ],
      "execution_count": null,
      "outputs": []
    },
    {
      "cell_type": "code",
      "metadata": {
        "id": "HX7oFrHPs6hg"
      },
      "source": [
        ""
      ],
      "execution_count": null,
      "outputs": []
    },
    {
      "cell_type": "code",
      "metadata": {
        "id": "1eTKWP_Ns6kO"
      },
      "source": [
        ""
      ],
      "execution_count": null,
      "outputs": []
    },
    {
      "cell_type": "code",
      "metadata": {
        "id": "11KAFPCws6nA"
      },
      "source": [
        ""
      ],
      "execution_count": null,
      "outputs": []
    },
    {
      "cell_type": "code",
      "metadata": {
        "id": "uLbm9-IFs6p3"
      },
      "source": [
        ""
      ],
      "execution_count": null,
      "outputs": []
    },
    {
      "cell_type": "code",
      "metadata": {
        "id": "1iHDfZHEs6sb"
      },
      "source": [
        ""
      ],
      "execution_count": null,
      "outputs": []
    },
    {
      "cell_type": "code",
      "metadata": {
        "id": "cKeCEC7rs6wY"
      },
      "source": [
        ""
      ],
      "execution_count": null,
      "outputs": []
    },
    {
      "cell_type": "code",
      "metadata": {
        "id": "qAA5rcsos6ys"
      },
      "source": [
        ""
      ],
      "execution_count": null,
      "outputs": []
    },
    {
      "cell_type": "code",
      "metadata": {
        "id": "2i9CdT61s61v"
      },
      "source": [
        ""
      ],
      "execution_count": null,
      "outputs": []
    },
    {
      "cell_type": "code",
      "metadata": {
        "id": "9fnZfMdws64c"
      },
      "source": [
        ""
      ],
      "execution_count": null,
      "outputs": []
    },
    {
      "cell_type": "code",
      "metadata": {
        "id": "8FLzBMids662"
      },
      "source": [
        ""
      ],
      "execution_count": null,
      "outputs": []
    }
  ]
}
